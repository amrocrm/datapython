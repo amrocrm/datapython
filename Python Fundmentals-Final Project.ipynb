{
 "cells": [
  {
   "cell_type": "code",
   "execution_count": 17,
   "id": "b4f26bc4",
   "metadata": {},
   "outputs": [],
   "source": [
    "from ipywidgets import interact,interactive,fixed\n",
    "import ipywidgets as widgets\n",
    "from IPython.display import display "
   ]
  },
  {
   "cell_type": "code",
   "execution_count": 18,
   "id": "c463dc0c",
   "metadata": {},
   "outputs": [],
   "source": [
    "import pandas as pd\n",
    "import numpy as np\n",
    "import seaborn as sns"
   ]
  },
  {
   "cell_type": "code",
   "execution_count": 20,
   "id": "748386f1",
   "metadata": {},
   "outputs": [
    {
     "data": {
      "application/vnd.jupyter.widget-view+json": {
       "model_id": "76ea4791585f4139acd89927dc13a8a1",
       "version_major": 2,
       "version_minor": 0
      },
      "text/plain": [
       "Button(description='Sum of Total', style=ButtonStyle())"
      ]
     },
     "metadata": {},
     "output_type": "display_data"
    },
    {
     "name": "stdout",
     "output_type": "stream",
     "text": [
      "Total is 805.2999999999998\n"
     ]
    }
   ],
   "source": [
    "df_tips=sns.load_dataset(\"car_crashes\")\n",
    "btn=widgets.Button(description=\"Sum of Total\")\n",
    "display(btn)\n",
    "def calcTotal(obj):\n",
    "    print('Total is {}'.format(df_tips.total.sum()))\n",
    "btn.on_click(calcTotal)"
   ]
  },
  {
   "cell_type": "code",
   "execution_count": null,
   "id": "267597a4",
   "metadata": {},
   "outputs": [],
   "source": []
  }
 ],
 "metadata": {
  "kernelspec": {
   "display_name": "Python 3",
   "language": "python",
   "name": "python3"
  },
  "language_info": {
   "codemirror_mode": {
    "name": "ipython",
    "version": 3
   },
   "file_extension": ".py",
   "mimetype": "text/x-python",
   "name": "python",
   "nbconvert_exporter": "python",
   "pygments_lexer": "ipython3",
   "version": "3.8.8"
  }
 },
 "nbformat": 4,
 "nbformat_minor": 5
}
